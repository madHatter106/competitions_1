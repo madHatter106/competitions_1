{
 "cells": [
  {
   "cell_type": "code",
   "execution_count": 1,
   "metadata": {},
   "outputs": [],
   "source": [
    "from fastai import *\n",
    "from fastai.vision import *\n",
    "#from fastai.widgets import \n",
    "from torch.nn import CrossEntropyLoss"
   ]
  },
  {
   "cell_type": "code",
   "execution_count": 28,
   "metadata": {},
   "outputs": [],
   "source": [
    "plankton_path = pathlib.Path('/accounts/ekarakoy/.fastai/data/plankton')\n",
    "train_path = plankton_path / 'train'\n",
    "test_path = plankton_path / 'test'\n",
    "project_path = pathlib.Path.home()/ 'PROJEX/competitions_1/plankton'"
   ]
  },
  {
   "cell_type": "code",
   "execution_count": 29,
   "metadata": {},
   "outputs": [
    {
     "data": {
      "text/plain": [
       "True"
      ]
     },
     "execution_count": 29,
     "metadata": {},
     "output_type": "execute_result"
    }
   ],
   "source": [
    "project_path.exists()"
   ]
  },
  {
   "cell_type": "code",
   "execution_count": 4,
   "metadata": {},
   "outputs": [
    {
     "data": {
      "text/plain": [
       "(True, True)"
      ]
     },
     "execution_count": 4,
     "metadata": {},
     "output_type": "execute_result"
    }
   ],
   "source": [
    "train_path.exists(), test_path.exists()"
   ]
  },
  {
   "cell_type": "code",
   "execution_count": 5,
   "metadata": {},
   "outputs": [],
   "source": [
    "df_sub = pd.read_csv(plankton_path/'sampleSubmission.csv')"
   ]
  },
  {
   "cell_type": "code",
   "execution_count": 6,
   "metadata": {},
   "outputs": [
    {
     "data": {
      "text/html": [
       "<div>\n",
       "<style scoped>\n",
       "    .dataframe tbody tr th:only-of-type {\n",
       "        vertical-align: middle;\n",
       "    }\n",
       "\n",
       "    .dataframe tbody tr th {\n",
       "        vertical-align: top;\n",
       "    }\n",
       "\n",
       "    .dataframe thead th {\n",
       "        text-align: right;\n",
       "    }\n",
       "</style>\n",
       "<table border=\"1\" class=\"dataframe\">\n",
       "  <thead>\n",
       "    <tr style=\"text-align: right;\">\n",
       "      <th></th>\n",
       "      <th>0</th>\n",
       "    </tr>\n",
       "  </thead>\n",
       "  <tbody>\n",
       "    <tr>\n",
       "      <td>image</td>\n",
       "      <td>1.jpg</td>\n",
       "    </tr>\n",
       "    <tr>\n",
       "      <td>acantharia_protist_big_center</td>\n",
       "      <td>0.00826446</td>\n",
       "    </tr>\n",
       "    <tr>\n",
       "      <td>acantharia_protist_halo</td>\n",
       "      <td>0.00826446</td>\n",
       "    </tr>\n",
       "    <tr>\n",
       "      <td>acantharia_protist</td>\n",
       "      <td>0.00826446</td>\n",
       "    </tr>\n",
       "    <tr>\n",
       "      <td>amphipods</td>\n",
       "      <td>0.00826446</td>\n",
       "    </tr>\n",
       "    <tr>\n",
       "      <td>...</td>\n",
       "      <td>...</td>\n",
       "    </tr>\n",
       "    <tr>\n",
       "      <td>tunicate_salp_chains</td>\n",
       "      <td>0.00826446</td>\n",
       "    </tr>\n",
       "    <tr>\n",
       "      <td>tunicate_salp</td>\n",
       "      <td>0.00826446</td>\n",
       "    </tr>\n",
       "    <tr>\n",
       "      <td>unknown_blobs_and_smudges</td>\n",
       "      <td>0.00826446</td>\n",
       "    </tr>\n",
       "    <tr>\n",
       "      <td>unknown_sticks</td>\n",
       "      <td>0.00826446</td>\n",
       "    </tr>\n",
       "    <tr>\n",
       "      <td>unknown_unclassified</td>\n",
       "      <td>0.00826446</td>\n",
       "    </tr>\n",
       "  </tbody>\n",
       "</table>\n",
       "<p>122 rows × 1 columns</p>\n",
       "</div>"
      ],
      "text/plain": [
       "                                        0\n",
       "image                               1.jpg\n",
       "acantharia_protist_big_center  0.00826446\n",
       "acantharia_protist_halo        0.00826446\n",
       "acantharia_protist             0.00826446\n",
       "amphipods                      0.00826446\n",
       "...                                   ...\n",
       "tunicate_salp_chains           0.00826446\n",
       "tunicate_salp                  0.00826446\n",
       "unknown_blobs_and_smudges      0.00826446\n",
       "unknown_sticks                 0.00826446\n",
       "unknown_unclassified           0.00826446\n",
       "\n",
       "[122 rows x 1 columns]"
      ]
     },
     "execution_count": 6,
     "metadata": {},
     "output_type": "execute_result"
    }
   ],
   "source": [
    "df_sub.head(1).T"
   ]
  },
  {
   "cell_type": "code",
   "execution_count": 7,
   "metadata": {},
   "outputs": [
    {
     "data": {
      "text/plain": [
       "0    1.0\n",
       "dtype: float64"
      ]
     },
     "execution_count": 7,
     "metadata": {},
     "output_type": "execute_result"
    }
   ],
   "source": [
    "df_sub.head(1).T[1:].sum()"
   ]
  },
  {
   "cell_type": "markdown",
   "metadata": {},
   "source": [
    "It appears that the goal is to produce a csv file with 1 row per image, and columns populated by classes. For a given image, each class is assigned a probability. \n",
    "\n",
    "## Data Dealings\n",
    "\n",
    "The training data set is partitioned into folders names after the classes they belonged to. The table above 122 classes.\n",
    "The widget FileDeleter was removed in favor of ImageDeleter and ImageRelabeler.\n",
    "\n"
   ]
  },
  {
   "cell_type": "code",
   "execution_count": 8,
   "metadata": {},
   "outputs": [],
   "source": [
    "Categories = [cat.name for cat in train_path.glob('*')]"
   ]
  },
  {
   "cell_type": "code",
   "execution_count": 9,
   "metadata": {},
   "outputs": [
    {
     "data": {
      "text/plain": [
       "['unknown_blobs_and_smudges',\n",
       " 'heteropod',\n",
       " 'hydromedusae_narco_young',\n",
       " 'tunicate_doliolid',\n",
       " 'pteropod_theco_dev_seq',\n",
       " 'models',\n",
       " 'hydromedusae_other',\n",
       " 'tornaria_acorn_worm_larvae',\n",
       " 'echinoderm_larva_pluteus_urchin',\n",
       " 'hydromedusae_narco_dark',\n",
       " 'shrimp_zoea',\n",
       " 'invertebrate_larvae_other_A',\n",
       " 'echinoderm_larva_pluteus_typeC',\n",
       " 'echinoderm_larva_seastar_bipinnaria',\n",
       " 'ctenophore_cydippid_no_tentacles',\n",
       " 'jellies_tentacles',\n",
       " 'acantharia_protist_big_center',\n",
       " 'siphonophore_calycophoran_rocketship_young',\n",
       " 'tunicate_salp_chains',\n",
       " 'chordate_type1',\n",
       " 'hydromedusae_typeD_bell_and_tentacles',\n",
       " 'stomatopod',\n",
       " 'fish_larvae_myctophids',\n",
       " 'copepod_cyclopoid_oithona',\n",
       " 'appendicularian_fritillaridae',\n",
       " 'hydromedusae_shapeB',\n",
       " 'protist_noctiluca',\n",
       " 'unknown_unclassified',\n",
       " 'hydromedusae_haliscera',\n",
       " 'hydromedusae_typeD',\n",
       " 'detritus_blob',\n",
       " 'siphonophore_calycophoran_abylidae',\n",
       " 'appendicularian_straight',\n",
       " 'trichodesmium_bowtie',\n",
       " 'acantharia_protist_halo',\n",
       " 'echinoderm_larva_pluteus_brittlestar',\n",
       " 'copepod_calanoid_large_side_antennatucked',\n",
       " 'fish_larvae_thin_body',\n",
       " 'hydromedusae_shapeA_sideview_small',\n",
       " 'protist_star',\n",
       " 'copepod_calanoid_octomoms',\n",
       " 'echinoderm_seacucumber_auricularia_larva',\n",
       " 'hydromedusae_liriope',\n",
       " 'siphonophore_physonect',\n",
       " 'echinopluteus',\n",
       " 'hydromedusae_narcomedusae',\n",
       " 'tunicate_partial',\n",
       " 'hydromedusae_bell_and_tentacles',\n",
       " 'invertebrate_larvae_other_B',\n",
       " 'euphausiids',\n",
       " 'hydromedusae_solmundella',\n",
       " 'copepod_cyclopoid_copilia',\n",
       " 'amphipods',\n",
       " 'pteropod_triangle',\n",
       " 'chaetognath_sagitta',\n",
       " 'hydromedusae_h15',\n",
       " 'siphonophore_calycophoran_sphaeronectes_stem',\n",
       " 'siphonophore_partial',\n",
       " 'pteropod_butterfly',\n",
       " 'chaetognath_non_sagitta',\n",
       " 'radiolarian_colony',\n",
       " 'trichodesmium_tuft',\n",
       " 'hydromedusae_shapeA',\n",
       " 'artifacts_edge',\n",
       " 'protist_other',\n",
       " 'trichodesmium_puff',\n",
       " 'hydromedusae_sideview_big',\n",
       " 'appendicularian_s_shape',\n",
       " 'siphonophore_calycophoran_sphaeronectes_young',\n",
       " 'hydromedusae_typeE',\n",
       " 'siphonophore_calycophoran_rocketship_adult',\n",
       " 'siphonophore_other_parts',\n",
       " 'tunicate_salp',\n",
       " 'fish_larvae_leptocephali',\n",
       " 'diatom_chain_tube',\n",
       " 'polychaete',\n",
       " 'detritus_other',\n",
       " 'radiolarian_chain',\n",
       " 'crustacean_other',\n",
       " 'unknown_sticks',\n",
       " 'copepod_calanoid_eggs',\n",
       " 'decapods',\n",
       " 'tunicate_doliolid_nurse',\n",
       " 'artifacts',\n",
       " 'protist_fuzzy_olive',\n",
       " 'hydromedusae_haliscera_small_sideview',\n",
       " 'trichodesmium_multiple',\n",
       " 'shrimp-like_other',\n",
       " 'shrimp_sergestidae',\n",
       " 'copepod_calanoid_large',\n",
       " 'hydromedusae_solmaris',\n",
       " 'ctenophore_lobate',\n",
       " 'echinoderm_larva_seastar_brachiolaria',\n",
       " 'siphonophore_physonect_young',\n",
       " 'hydromedusae_typeF',\n",
       " 'ctenophore_cydippid_tentacles',\n",
       " 'protist_dark_center',\n",
       " 'echinoderm_larva_pluteus_early',\n",
       " 'shrimp_caridean',\n",
       " 'ephyra',\n",
       " 'hydromedusae_aglaura',\n",
       " 'siphonophore_calycophoran_sphaeronectes',\n",
       " 'copepod_cyclopoid_oithona_eggs',\n",
       " 'copepod_calanoid_frillyAntennae',\n",
       " 'trochophore_larvae',\n",
       " 'fish_larvae_very_thin_body',\n",
       " 'copepod_calanoid_small_longantennae',\n",
       " 'hydromedusae_partial_dark',\n",
       " 'appendicularian_slight_curve',\n",
       " 'copepod_calanoid_eucalanus',\n",
       " 'euphausiids_young',\n",
       " 'ctenophore_cestid',\n",
       " 'copepod_other',\n",
       " 'diatom_chain_string',\n",
       " 'detritus_filamentous',\n",
       " 'chaetognath_other',\n",
       " 'fecal_pellet',\n",
       " 'copepod_calanoid',\n",
       " 'fish_larvae_deep_body',\n",
       " 'copepod_calanoid_flatheads',\n",
       " 'fish_larvae_medium_body',\n",
       " 'acantharia_protist']"
      ]
     },
     "execution_count": 9,
     "metadata": {},
     "output_type": "execute_result"
    }
   ],
   "source": [
    "Categories"
   ]
  },
  {
   "cell_type": "code",
   "execution_count": 16,
   "metadata": {},
   "outputs": [],
   "source": [
    "test = ImageList.from_folder(test_path)\n",
    "data = (ImageDataBunch.from_folder(train_path, train='./', valid_pct=0.2,\n",
    "                                   ds_tfms=get_transforms(), size=224)\n",
    "        .normalize(imagenet_stats))"
   ]
  },
  {
   "cell_type": "code",
   "execution_count": 18,
   "metadata": {
    "scrolled": true
   },
   "outputs": [
    {
     "data": {
      "text/plain": [
       "['acantharia_protist',\n",
       " 'acantharia_protist_big_center',\n",
       " 'acantharia_protist_halo',\n",
       " 'amphipods',\n",
       " 'appendicularian_fritillaridae']"
      ]
     },
     "execution_count": 18,
     "metadata": {},
     "output_type": "execute_result"
    }
   ],
   "source": [
    "data.classes[:5]"
   ]
  },
  {
   "cell_type": "code",
   "execution_count": 19,
   "metadata": {},
   "outputs": [],
   "source": [
    "for c in data.classes:\n",
    "    verify_images(train_path/c, )"
   ]
  },
  {
   "cell_type": "code",
   "execution_count": 20,
   "metadata": {
    "scrolled": false
   },
   "outputs": [
    {
     "data": {
      "image/png": "[encoded data removed]",
      "text/plain": [
       "<Figure size 648x576 with 9 Axes>"
      ]
     },
     "metadata": {
      "needs_background": "light"
     },
     "output_type": "display_data"
    }
   ],
   "source": [
    "data.show_batch(rows=3, figsize=(9, 8))"
   ]
  },
  {
   "cell_type": "code",
   "execution_count": 21,
   "metadata": {},
   "outputs": [
    {
     "data": {
      "text/plain": [
       "(121, 24269, 6067)"
      ]
     },
     "execution_count": 21,
     "metadata": {},
     "output_type": "execute_result"
    }
   ],
   "source": [
    "data.c, len(data.train_ds), len(data.valid_ds)"
   ]
  },
  {
   "cell_type": "markdown",
   "metadata": {},
   "source": [
    "### Train model"
   ]
  },
  {
   "cell_type": "code",
   "execution_count": 22,
   "metadata": {},
   "outputs": [],
   "source": [
    "learn = cnn_learner(data, models.resnet34, metrics=error_rate)\n",
    "learn.loss_func = CrossEntropyLoss()"
   ]
  },
  {
   "cell_type": "code",
   "execution_count": 23,
   "metadata": {},
   "outputs": [
    {
     "data": {
      "text/html": [],
      "text/plain": [
       "<IPython.core.display.HTML object>"
      ]
     },
     "metadata": {},
     "output_type": "display_data"
    },
    {
     "name": "stdout",
     "output_type": "stream",
     "text": [
      "LR Finder is complete, type {learner_name}.recorder.plot() to see the graph.\n"
     ]
    }
   ],
   "source": [
    "learn.lr_find()"
   ]
  },
  {
   "cell_type": "code",
   "execution_count": 24,
   "metadata": {},
   "outputs": [
    {
     "data": {
      "image/png": "[encoded data removed]",
      "text/plain": [
       "<Figure size 432x288 with 1 Axes>"
      ]
     },
     "metadata": {
      "needs_background": "light"
     },
     "output_type": "display_data"
    }
   ],
   "source": [
    "learn.recorder.plot()"
   ]
  },
  {
   "cell_type": "code",
   "execution_count": 25,
   "metadata": {},
   "outputs": [
    {
     "data": {
      "text/html": [
       "<table border=\"1\" class=\"dataframe\">\n",
       "  <thead>\n",
       "    <tr style=\"text-align: left;\">\n",
       "      <th>epoch</th>\n",
       "      <th>train_loss</th>\n",
       "      <th>valid_loss</th>\n",
       "      <th>error_rate</th>\n",
       "      <th>time</th>\n",
       "    </tr>\n",
       "  </thead>\n",
       "  <tbody>\n",
       "    <tr>\n",
       "      <td>0</td>\n",
       "      <td>2.296193</td>\n",
       "      <td>1.708050</td>\n",
       "      <td>0.458381</td>\n",
       "      <td>01:58</td>\n",
       "    </tr>\n",
       "    <tr>\n",
       "      <td>1</td>\n",
       "      <td>1.742080</td>\n",
       "      <td>1.346472</td>\n",
       "      <td>0.388165</td>\n",
       "      <td>01:59</td>\n",
       "    </tr>\n",
       "    <tr>\n",
       "      <td>2</td>\n",
       "      <td>1.515750</td>\n",
       "      <td>1.176480</td>\n",
       "      <td>0.349596</td>\n",
       "      <td>01:58</td>\n",
       "    </tr>\n",
       "    <tr>\n",
       "      <td>3</td>\n",
       "      <td>1.331370</td>\n",
       "      <td>1.130360</td>\n",
       "      <td>0.335586</td>\n",
       "      <td>01:59</td>\n",
       "    </tr>\n",
       "  </tbody>\n",
       "</table>"
      ],
      "text/plain": [
       "<IPython.core.display.HTML object>"
      ]
     },
     "metadata": {},
     "output_type": "display_data"
    }
   ],
   "source": [
    "learn.fit_one_cycle(4, max_lr=slice(3e-5, 3e-3))"
   ]
  },
  {
   "cell_type": "code",
   "execution_count": 30,
   "metadata": {},
   "outputs": [],
   "source": [
    "learn.save(project_path / 'stage-1')"
   ]
  },
  {
   "cell_type": "code",
   "execution_count": 31,
   "metadata": {},
   "outputs": [],
   "source": [
    "stat = (project_path/'stage-1.pth').stat()"
   ]
  },
  {
   "cell_type": "code",
   "execution_count": 34,
   "metadata": {},
   "outputs": [
    {
     "name": "stdout",
     "output_type": "stream",
     "text": [
      "model size: 92.50MB\n"
     ]
    }
   ],
   "source": [
    "print(f'model size: {stat.st_size/int(1e6):.2f}MB')"
   ]
  },
  {
   "cell_type": "markdown",
   "metadata": {},
   "source": [
    "---\n",
    "## LEFT OFF HERE\n",
    "---"
   ]
  },
  {
   "cell_type": "code",
   "execution_count": 38,
   "metadata": {},
   "outputs": [],
   "source": [
    "interp = ClassificationInterpretation.from_learner(learn)"
   ]
  },
  {
   "cell_type": "code",
   "execution_count": null,
   "metadata": {},
   "outputs": [],
   "source": [
    "interp.confusion_matrix()"
   ]
  },
  {
   "cell_type": "code",
   "execution_count": 39,
   "metadata": {},
   "outputs": [],
   "source": [
    "img = learn.data.train_ds[0][0]"
   ]
  },
  {
   "cell_type": "code",
   "execution_count": 41,
   "metadata": {},
   "outputs": [],
   "source": [
    "a = learn.predict(img)"
   ]
  },
  {
   "cell_type": "code",
   "execution_count": 42,
   "metadata": {},
   "outputs": [
    {
     "data": {
      "text/plain": [
       "(Category detritus_filamentous,\n",
       " tensor(34),\n",
       " tensor([2.0350e-04, 6.2076e-05, 6.8971e-05, 8.8474e-03, 7.5911e-04, 1.7384e-02,\n",
       "         1.4034e-02, 8.9387e-03, 3.9106e-04, 6.9520e-05, 1.3150e-03, 4.5805e-02,\n",
       "         5.5944e-03, 9.2401e-04, 9.4332e-03, 5.0444e-02, 6.5228e-04, 9.7584e-03,\n",
       "         4.0127e-03, 3.6956e-03, 2.0148e-03, 6.5648e-04, 2.7261e-03, 1.4107e-04,\n",
       "         5.4129e-03, 1.4026e-03, 7.7352e-04, 5.2806e-02, 9.3115e-05, 1.6513e-04,\n",
       "         1.6593e-04, 1.4412e-04, 7.4799e-02, 4.2862e-02, 1.3678e-01, 4.1145e-02,\n",
       "         8.3842e-04, 1.4975e-03, 1.1959e-03, 8.0050e-04, 1.2018e-03, 6.1808e-03,\n",
       "         4.9632e-04, 3.6899e-04, 2.5929e-04, 2.4789e-04, 1.5323e-04, 1.1178e-02,\n",
       "         9.3716e-03, 5.3646e-02, 1.5390e-03, 7.6943e-04, 7.1770e-03, 7.8706e-03,\n",
       "         1.1784e-02, 4.8762e-03, 1.2975e-04, 4.5173e-04, 1.3977e-04, 3.0336e-04,\n",
       "         9.5391e-05, 2.3030e-04, 1.1699e-04, 2.6137e-04, 3.2061e-04, 3.8287e-05,\n",
       "         2.0835e-04, 1.5081e-04, 1.2488e-04, 2.2914e-04, 2.4663e-04, 6.8123e-05,\n",
       "         1.2420e-04, 5.9126e-04, 1.6759e-04, 2.4123e-04, 3.2265e-04, 1.5545e-03,\n",
       "         6.3211e-04, 5.9743e-04, 1.5709e-04, 1.4487e-03, 2.6360e-04, 2.7329e-04,\n",
       "         3.0207e-04, 1.4231e-04, 3.3060e-04, 4.7081e-03, 5.6095e-04, 4.3444e-03,\n",
       "         5.2728e-04, 1.9331e-04, 1.5428e-02, 2.2003e-02, 9.1377e-03, 3.9949e-02,\n",
       "         1.4980e-04, 3.0138e-04, 7.7891e-04, 8.6872e-05, 1.5010e-04, 1.2125e-04,\n",
       "         1.3626e-04, 3.6780e-04, 1.4175e-04, 8.0023e-04, 2.7334e-03, 1.6064e-04,\n",
       "         1.6654e-02, 4.9725e-04, 8.6695e-04, 9.5076e-02, 1.2274e-04, 1.1323e-04,\n",
       "         6.2370e-04, 5.0059e-05, 9.6388e-05, 3.5381e-04, 5.4136e-02, 4.1882e-02,\n",
       "         1.0545e-02]))"
      ]
     },
     "execution_count": 42,
     "metadata": {},
     "output_type": "execute_result"
    }
   ],
   "source": [
    "a[]"
   ]
  },
  {
   "cell_type": "code",
   "execution_count": 20,
   "metadata": {},
   "outputs": [],
   "source": [
    "doc(ImageCleaner)"
   ]
  },
  {
   "cell_type": "markdown",
   "metadata": {},
   "source": [
    "## Post learning data cleaning\n",
    "\n",
    "ImageDeleter is essentially the same as the old FileDeleter.\n",
    "\n",
    "ImageRelabeler renders the files you pass in and lets you re-label them. This is to find mis-categorized images in your data directory. NOTE: ImageRelabeler currently only works with files where labels were created from the names of their parent directory (i.e. with .from_folder()). The widget moves mislabeled photos from the incorrect parent directory to the properly-labeled parent directory.\n",
    "\n",
    "To relabel an image, just click the proper label in the widget dropdown.\n",
    "\n",
    "Both widgets take a formatted dataset from DatasetFormatter. You can easily specify which dataset you’d like to render by passing in DatasetType.Valid, DatasetType.Train or DatasetType.Test to the ds_type keyword arg in DatasetFormatter.from_toplosses.\n",
    "\n",
    "All three classes are available in fastai.widgets."
   ]
  },
  {
   "cell_type": "code",
   "execution_count": null,
   "metadata": {},
   "outputs": [],
   "source": []
  }
 ],
 "metadata": {
  "kernelspec": {
   "display_name": "Python [conda env:fastai] *",
   "language": "python",
   "name": "conda-env-fastai-py"
  },
  "language_info": {
   "codemirror_mode": {
    "name": "ipython",
    "version": 3
   },
   "file_extension": ".py",
   "mimetype": "text/x-python",
   "name": "python",
   "nbconvert_exporter": "python",
   "pygments_lexer": "ipython3",
   "version": "3.7.4"
  }
 },
 "nbformat": 4,
 "nbformat_minor": 2
}
